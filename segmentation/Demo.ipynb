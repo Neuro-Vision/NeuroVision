{
 "cells": [
  {
   "cell_type": "code",
   "execution_count": null,
   "source": [
    "import tarfile\r\n",
    "import plotly\r\n",
    "from plotly.offline import download_plotlyjs,y init_notebook_mode, plot, iplot\r\n",
    "\r\n",
    "init_notebook_mode(connected=True)\r\n",
    "\r\n",
    "def extract_task1_files(root=\"./data\"):\r\n",
    "    tar = tarfile.open(\"../input/brats-2021-task1/BraTS2021_Training_Data.tar\")\r\n",
    "    tar.extractall(root)\r\n",
    "    tar.close()"
   ],
   "outputs": [],
   "metadata": {}
  },
  {
   "cell_type": "code",
   "execution_count": null,
   "source": [],
   "outputs": [],
   "metadata": {}
  }
 ],
 "metadata": {
  "orig_nbformat": 4,
  "language_info": {
   "name": "python",
   "version": "3.8.10"
  },
  "kernelspec": {
   "name": "python3",
   "display_name": "Python 3.8.10 64-bit ('CAnet': conda)"
  },
  "interpreter": {
   "hash": "afcbcef94caea746feaf504c7f9e744335fd3ec253246f55e3812a84d30366fa"
  }
 },
 "nbformat": 4,
 "nbformat_minor": 2
}